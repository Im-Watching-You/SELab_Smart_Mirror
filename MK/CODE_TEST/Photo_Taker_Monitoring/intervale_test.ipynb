{
 "cells": [
  {
   "cell_type": "code",
   "execution_count": null,
   "metadata": {},
   "outputs": [
    {
     "name": "stdout",
     "output_type": "stream",
     "text": [
      "Nothing to do for 1\n",
      "Nothing to do for 2\n",
      "Nothing to do for 3\n",
      "Nothing to do for 4\n",
      "Nothing to do for 5\n",
      "Nothing to do for 6\n",
      "Nothing to do for 7\n",
      "Nothing to do for 8\n",
      "Nothing to do for 9\n",
      "Trigger 10 hit, perform some action.\n",
      "Nothing to do for 11\n",
      "Nothing to do for 12\n",
      "You rolled: 3\n",
      "You rolled: 1\n"
     ]
    }
   ],
   "source": [
    "class C:\n",
    "    def __init__(self, trigger, init_val=0):\n",
    "        self._v = init_val\n",
    "        self.trigger = trigger\n",
    "\n",
    "    @property\n",
    "    def v(self):\n",
    "        return self._v\n",
    "\n",
    "    @v.setter\n",
    "    def v(self, value):\n",
    "        if value == self.trigger:\n",
    "            print(\"Trigger {} hit, perform some action.\".format(value))\n",
    "        else:\n",
    "            print(\"Nothing to do for {}\".format(value))\n",
    "        self._v = value\n",
    "\n",
    "c = C(10)\n",
    "while c.v < 12:  # Go couple turns past the \"event\" to see its effect\n",
    "    c.v += 1"
   ]
  },
  {
   "cell_type": "code",
   "execution_count": 2,
   "metadata": {},
   "outputs": [
    {
     "name": "stdout",
     "output_type": "stream",
     "text": [
      "Spinning motor\n",
      "Spinning motor\n",
      "Counter now at 1\n"
     ]
    },
    {
     "ename": "KeyboardInterrupt",
     "evalue": "",
     "traceback": [
      "\u001b[1;31m---------------------------------------------------------------------------\u001b[0m",
      "\u001b[1;31mKeyboardInterrupt\u001b[0m                         Traceback (most recent call last)",
      "\u001b[1;32m<ipython-input-2-4468942a3786>\u001b[0m in \u001b[0;36m<module>\u001b[1;34m\u001b[0m\n\u001b[0;32m     19\u001b[0m \u001b[1;32mwhile\u001b[0m \u001b[0mcounter\u001b[0m\u001b[1;33m.\u001b[0m\u001b[0mvalue\u001b[0m \u001b[1;33m<\u001b[0m \u001b[0mcounter\u001b[0m\u001b[1;33m.\u001b[0m\u001b[0mlimit\u001b[0m\u001b[1;33m:\u001b[0m\u001b[1;33m\u001b[0m\u001b[1;33m\u001b[0m\u001b[0m\n\u001b[0;32m     20\u001b[0m     \u001b[0mprint\u001b[0m\u001b[1;33m(\u001b[0m\u001b[1;34m\"Spinning motor\"\u001b[0m\u001b[1;33m)\u001b[0m\u001b[1;33m\u001b[0m\u001b[1;33m\u001b[0m\u001b[0m\n\u001b[1;32m---> 21\u001b[1;33m     \u001b[0msleep\u001b[0m\u001b[1;33m(\u001b[0m\u001b[1;36m0.5\u001b[0m\u001b[1;33m)\u001b[0m  \u001b[1;31m# do actual work here\u001b[0m\u001b[1;33m\u001b[0m\u001b[1;33m\u001b[0m\u001b[0m\n\u001b[0m\u001b[0;32m     22\u001b[0m \u001b[0mprint\u001b[0m\u001b[1;33m(\u001b[0m\u001b[1;34m\"Stop motor\"\u001b[0m\u001b[1;33m)\u001b[0m\u001b[1;33m\u001b[0m\u001b[1;33m\u001b[0m\u001b[0m\n",
      "\u001b[1;31mKeyboardInterrupt\u001b[0m: "
     ],
     "output_type": "error"
    }
   ],
   "source": [
    "from threading import Thread\n",
    "from time import sleep\n",
    "\n",
    "class Counter(Thread):\n",
    "    def __init__(self, limit):\n",
    "        self.value = 0\n",
    "        self.limit = limit\n",
    "        super().__init__()\n",
    "\n",
    "    def run(self):\n",
    "        while self.value < self.limit:\n",
    "            # We'd be acquiring and accumulating actual values here         \n",
    "            sleep(1)\n",
    "            self.value += 1\n",
    "            print(\"Counter now at {}\".format(self.value))\n",
    "\n",
    "counter = Counter(10)\n",
    "counter.start()\n",
    "while counter.value < counter.limit:\n",
    "    print(\"Spinning motor\")\n",
    "    sleep(0.5)  # do actual work here\n",
    "print(\"Stop motor\")"
   ]
  },
  {
   "cell_type": "code",
   "execution_count": 16,
   "metadata": {},
   "outputs": [
    {
     "name": "stdout",
     "output_type": "stream",
     "text": [
      "You rolled: 2\n"
     ]
    },
    {
     "ename": "SyntaxError",
     "evalue": "Missing parentheses in call to 'print'. Did you mean print(\"timer went off!\")? (<ipython-input-16-4cbdffa466e5>, line 5)",
     "traceback": [
      "\u001b[1;36m  File \u001b[1;32m\"<ipython-input-16-4cbdffa466e5>\"\u001b[1;36m, line \u001b[1;32m5\u001b[0m\n\u001b[1;33m    print \"timer went off!\"\u001b[0m\n\u001b[1;37m                          ^\u001b[0m\n\u001b[1;31mSyntaxError\u001b[0m\u001b[1;31m:\u001b[0m Missing parentheses in call to 'print'. Did you mean print(\"timer went off!\")?\n"
     ],
     "output_type": "error"
    },
    {
     "name": "stdout",
     "output_type": "stream",
     "text": [
      "You rolled: 1\n",
      "You rolled: 6\n",
      "Finally, a 6! We can stop rolling.\n",
      "You rolled: 4\n"
     ]
    }
   ],
   "source": [
    "from threading import Timer\n",
    "from time import sleep\n",
    "\n",
    "def foo():\n",
    "    print \"timer went off!\"\n",
    "t = Timer(4, foo)\n",
    "t.start()\n",
    "for i in range(11):\n",
    "    print i\n",
    "    sleep(.5)"
   ]
  },
  {
   "cell_type": "code",
   "execution_count": 15,
   "metadata": {},
   "outputs": [
    {
     "name": "stdout",
     "output_type": "stream",
     "text": [
      "You rolled: 2\n",
      "You rolled: 1\n",
      "You rolled: 5\n"
     ]
    }
   ],
   "source": [
    "import threading\n",
    "import random\n",
    "\n",
    "\n",
    "# code from http://stackoverflow.com/a/14035296/4592067\n",
    "def set_interval(func, sec):\n",
    "    def func_wrapper():\n",
    "        set_interval(func, sec)\n",
    "        func()\n",
    "    t = threading.Timer(sec, func_wrapper)\n",
    "    t.start()\n",
    "    return t\n",
    "\n",
    "\n",
    "# roll a die every 3 seconds\n",
    "# cancel the timer once we roll a \"6\"\n",
    "def roll6():\n",
    "\troll = random.randint(1, 6)\n",
    "\tprint(\"You rolled: \" + str(roll))\n",
    "\tif roll == 6:\n",
    "\t\ttimer.cancel() # doesn't seem to cancel though\n",
    "\t\tprint(\"Finally, a 6! We can stop rolling.\")\n",
    "\n",
    "# set up the timer\n",
    "timer = set_interval(roll6, 3)"
   ]
  }
 ],
 "metadata": {
  "kernelspec": {
   "display_name": "Python 3",
   "language": "python",
   "name": "python3"
  },
  "language_info": {
   "codemirror_mode": {
    "name": "ipython",
    "version": 3
   },
   "file_extension": ".py",
   "mimetype": "text/x-python",
   "name": "python",
   "nbconvert_exporter": "python",
   "pygments_lexer": "ipython3",
   "version": "3.7.3"
  }
 },
 "nbformat": 4,
 "nbformat_minor": 2
}
